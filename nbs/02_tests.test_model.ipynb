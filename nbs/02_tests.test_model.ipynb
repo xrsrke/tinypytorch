{
 "cells": [
  {
   "cell_type": "raw",
   "id": "f9323831-d174-481d-9b70-bf1d35d37536",
   "metadata": {},
   "source": [
    "---\n",
    "title: data\n",
    "output-file: data.html\n",
    "description: dataloader from scratch\n",
    "---"
   ]
  },
  {
   "cell_type": "code",
   "execution_count": 2,
   "id": "23da52f1-826e-429f-b0d6-928cb809faa8",
   "metadata": {},
   "outputs": [],
   "source": [
    "#| default_exp tests.test_model"
   ]
  },
  {
   "cell_type": "code",
   "execution_count": 11,
   "id": "ac5a5e3a-1b28-4b11-a257-1395cea93fba",
   "metadata": {},
   "outputs": [],
   "source": [
    "#| export\n",
    "import torch\n",
    "\n",
    "from fastcore.utils import *\n",
    "from tinypytorch.core import *\n",
    "from tinypytorch.model import MSE\n",
    "\n",
    "import pytest"
   ]
  },
  {
   "cell_type": "code",
   "execution_count": 8,
   "id": "4b2ea180-d8c6-43de-9c27-c1b3b83401d9",
   "metadata": {},
   "outputs": [],
   "source": [
    "#| hide\n",
    "from nbdev.showdoc import *\n",
    "from fastcore.test import *"
   ]
  },
  {
   "cell_type": "code",
   "execution_count": 12,
   "id": "292b5f34-6334-4beb-9de3-8c91755d26cc",
   "metadata": {},
   "outputs": [],
   "source": [
    "#| export\n",
    "def test_mse():\n",
    "    pass"
   ]
  },
  {
   "cell_type": "code",
   "execution_count": null,
   "id": "921cee63-e317-4519-a924-f715bd697111",
   "metadata": {},
   "outputs": [],
   "source": []
  }
 ],
 "metadata": {
  "kernelspec": {
   "display_name": "Python 3 (ipykernel)",
   "language": "python",
   "name": "python3"
  },
  "language_info": {
   "codemirror_mode": {
    "name": "ipython",
    "version": 3
   },
   "file_extension": ".py",
   "mimetype": "text/x-python",
   "name": "python",
   "nbconvert_exporter": "python",
   "pygments_lexer": "ipython3",
   "version": "3.9.12"
  }
 },
 "nbformat": 4,
 "nbformat_minor": 5
}
