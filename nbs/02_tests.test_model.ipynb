{
 "cells": [
  {
   "cell_type": "code",
   "execution_count": 1,
   "id": "23da52f1-826e-429f-b0d6-928cb809faa8",
   "metadata": {},
   "outputs": [],
   "source": [
    "#| default_exp tests.test_model"
   ]
  },
  {
   "cell_type": "code",
   "execution_count": 1,
   "id": "ac5a5e3a-1b28-4b11-a257-1395cea93fba",
   "metadata": {},
   "outputs": [],
   "source": [
    "#| export\n",
    "import torch\n",
    "import torch.nn as nn\n",
    "import torch.nn.functional as F\n",
    "\n",
    "from fastcore.utils import *\n",
    "from tinypytorch.core import *\n",
    "from tinypytorch.data import get_local_data\n",
    "from tinypytorch.model import Lin, ReLU, MSE, initialize_parameters, log_softmax, nll, cross_entropy, Model\n",
    "\n",
    "import pytest"
   ]
  },
  {
   "cell_type": "code",
   "execution_count": 2,
   "id": "4b2ea180-d8c6-43de-9c27-c1b3b83401d9",
   "metadata": {},
   "outputs": [],
   "source": [
    "#| hide\n",
    "from nbdev.showdoc import *\n",
    "from fastcore.test import *"
   ]
  },
  {
   "cell_type": "markdown",
   "id": "6afb1210-d5d1-4959-9802-97837b5a3f6e",
   "metadata": {
    "tags": []
   },
   "source": [
    "#### Tensor for tests"
   ]
  },
  {
   "cell_type": "code",
   "execution_count": 3,
   "id": "4126ff84-b2bb-4df8-9e23-1fcff37aedbf",
   "metadata": {},
   "outputs": [],
   "source": [
    "#| export\n",
    "A = torch.arange(start=-4, end=8, dtype=torch.float)"
   ]
  },
  {
   "cell_type": "code",
   "execution_count": 4,
   "id": "cf1f7dd5-d113-457e-9c71-4f86e3658ac8",
   "metadata": {},
   "outputs": [],
   "source": [
    "#| export\n",
    "A = torch.reshape(A, (4, 3))"
   ]
  },
  {
   "cell_type": "code",
   "execution_count": 52,
   "id": "ec421ca0-3f91-4f53-9bea-267a2e18342e",
   "metadata": {},
   "outputs": [
    {
     "data": {
      "text/plain": [
       "tensor([[-4., -3., -2.],\n",
       "        [-1.,  0.,  1.],\n",
       "        [ 2.,  3.,  4.],\n",
       "        [ 5.,  6.,  7.]])"
      ]
     },
     "execution_count": 52,
     "metadata": {},
     "output_type": "execute_result"
    }
   ],
   "source": [
    "A"
   ]
  },
  {
   "cell_type": "code",
   "execution_count": 53,
   "id": "f652e765-4500-493b-8013-109c811ba763",
   "metadata": {},
   "outputs": [],
   "source": [
    "#| export\n",
    "B = torch.arange(13, 25, dtype=torch.float)"
   ]
  },
  {
   "cell_type": "code",
   "execution_count": 54,
   "id": "cb426995-01da-4729-8b2e-d6d77a507ea9",
   "metadata": {},
   "outputs": [],
   "source": [
    "#| export\n",
    "B = torch.reshape(B, (4, 3))"
   ]
  },
  {
   "cell_type": "code",
   "execution_count": 55,
   "id": "4b1d6d38-2659-438f-81a2-86c737bf3905",
   "metadata": {},
   "outputs": [
    {
     "data": {
      "text/plain": [
       "tensor([[13., 14., 15.],\n",
       "        [16., 17., 18.],\n",
       "        [19., 20., 21.],\n",
       "        [22., 23., 24.]])"
      ]
     },
     "execution_count": 55,
     "metadata": {},
     "output_type": "execute_result"
    }
   ],
   "source": [
    "B"
   ]
  },
  {
   "cell_type": "markdown",
   "id": "19e879c2-ddb3-42c5-b3ff-788ee042f28a",
   "metadata": {},
   "source": [
    "#### Samples Data"
   ]
  },
  {
   "cell_type": "code",
   "execution_count": 56,
   "id": "d03b5f13-ca3b-4bdb-b8ed-8dc7a4fb253d",
   "metadata": {},
   "outputs": [],
   "source": [
    "#| export\n",
    "x_train, y_train, x_valid, y_valid = get_local_data()"
   ]
  },
  {
   "cell_type": "code",
   "execution_count": 57,
   "id": "4eaea71a-034b-42a3-bfa7-d356f174b6d9",
   "metadata": {},
   "outputs": [],
   "source": [
    "#| export\n",
    "bs = 64"
   ]
  },
  {
   "cell_type": "code",
   "execution_count": 58,
   "id": "fa13f049-ba46-4d2e-8c4e-8c0596c12817",
   "metadata": {},
   "outputs": [
    {
     "data": {
      "text/plain": [
       "torch.Size([50000, 784])"
      ]
     },
     "execution_count": 58,
     "metadata": {},
     "output_type": "execute_result"
    }
   ],
   "source": [
    "x_train.shape"
   ]
  },
  {
   "cell_type": "code",
   "execution_count": 59,
   "id": "8584477f-4430-4b9d-b9c5-8c8139e129db",
   "metadata": {},
   "outputs": [],
   "source": [
    "#| export\n",
    "xb = x_train[0:bs]\n",
    "yb = y_train[0:bs]"
   ]
  },
  {
   "cell_type": "code",
   "execution_count": 60,
   "id": "92c360df-a514-4fbc-9050-b42bc6a13b7f",
   "metadata": {},
   "outputs": [
    {
     "data": {
      "text/plain": [
       "torch.Size([64, 784])"
      ]
     },
     "execution_count": 60,
     "metadata": {},
     "output_type": "execute_result"
    }
   ],
   "source": [
    "xb.shape"
   ]
  },
  {
   "cell_type": "code",
   "execution_count": 61,
   "id": "d189fe6e-9890-4de7-b853-4f4cbdc8fe2b",
   "metadata": {},
   "outputs": [],
   "source": [
    "#| export\n",
    "n_in, nh, n_out = 784, 50, 10"
   ]
  },
  {
   "cell_type": "markdown",
   "id": "52df3355-b5c9-405d-8b3f-73dd2f1f16dd",
   "metadata": {},
   "source": [
    "#### Linear Layer"
   ]
  },
  {
   "cell_type": "code",
   "execution_count": 8,
   "id": "a98803d5-7251-4fd0-85c3-023d3629e81c",
   "metadata": {},
   "outputs": [],
   "source": [
    "#| export\n",
    "@pytest.fixture\n",
    "def model():\n",
    "    return Model(n_in, nh, n_out)"
   ]
  },
  {
   "cell_type": "code",
   "execution_count": 63,
   "id": "1b29ba89-3d8a-49b0-9d57-80936aa7d642",
   "metadata": {},
   "outputs": [],
   "source": [
    "#| export\n",
    "def test_intialize_parameters_should_return_true():\n",
    "    \n",
    "    m = 5 # number of rows\n",
    "    nh = 3 # number of hidden layers\n",
    "    w1, b1, w2, b2 = initialize_parameters(m=m, nh=nh)\n",
    "    assert w1.shape == (m, nh)\n",
    "    assert b1.shape == (nh,)\n",
    "    assert w2.shape == (nh, 1)\n",
    "    assert b2.shape == (1,)"
   ]
  },
  {
   "cell_type": "code",
   "execution_count": 12,
   "id": "04cde649-61d0-4cee-a661-8764e3b39de5",
   "metadata": {},
   "outputs": [],
   "source": [
    "#| export\n",
    "def test_linear_forward_pass():\n",
    "    "
   ]
  },
  {
   "cell_type": "markdown",
   "id": "ee0b60ad-6067-45d6-9055-ddbf78c87df2",
   "metadata": {
    "tags": []
   },
   "source": [
    "#### Model"
   ]
  },
  {
   "cell_type": "code",
   "execution_count": 9,
   "id": "0b51fc48-53d5-4a5e-99ae-cf71297d38af",
   "metadata": {},
   "outputs": [],
   "source": [
    "#| export\n",
    "def test_model_params_shape(model):\n",
    "    assert model.w1.shape == (n_in, nh)\n",
    "    assert model.b1.shape == (nh,)\n",
    "    assert model.w2.shape == (nh, n_out)\n",
    "    assert model.b2.shape == (n_out,)"
   ]
  },
  {
   "cell_type": "code",
   "execution_count": 10,
   "id": "04da3028-f318-4d86-96e0-9a07644c5a68",
   "metadata": {},
   "outputs": [],
   "source": [
    "#| export\n",
    "# TODO: fix\n",
    "def test_model_forward_pass(model):\n",
    "    assert model(xb).shape == nn.Linear(n_in, n_out)(xb).shape"
   ]
  },
  {
   "cell_type": "code",
   "execution_count": 11,
   "id": "4ede0031-9e58-4a66-9d6f-3ce8a6292ad2",
   "metadata": {},
   "outputs": [],
   "source": [
    "#| export\n",
    "def test_model_backward_pass():\n",
    "    pass"
   ]
  },
  {
   "cell_type": "markdown",
   "id": "0caf8c15-a314-402b-84fa-5c8d704d921d",
   "metadata": {},
   "source": [
    "#### Loss Functions"
   ]
  },
  {
   "cell_type": "markdown",
   "id": "1031f481-ba9e-4d2a-a517-4e32c8d7d5f6",
   "metadata": {},
   "source": [
    "##### Mean Squared Error"
   ]
  },
  {
   "cell_type": "code",
   "execution_count": 67,
   "id": "292b5f34-6334-4beb-9de3-8c91755d26cc",
   "metadata": {},
   "outputs": [],
   "source": [
    "#| export\n",
    "def test_mse_forward_pass():\n",
    "    \n",
    "    output = MSE().forward(A, B)\n",
    "    result = F.mse_loss(A, B)\n",
    "    \n",
    "    assert is_near_tensor(output, result) == True"
   ]
  },
  {
   "cell_type": "code",
   "execution_count": 68,
   "id": "9f067464-3f53-410a-812f-5d2ef530e185",
   "metadata": {},
   "outputs": [],
   "source": [
    "#| export\n",
    "def test_mse_backward_pass():\n",
    "    pass"
   ]
  },
  {
   "cell_type": "markdown",
   "id": "bc19fcf0-586b-4b0c-8b55-96654dffa43a",
   "metadata": {},
   "source": [
    "##### Cross-entropy Loss"
   ]
  },
  {
   "cell_type": "code",
   "execution_count": 69,
   "id": "5861e00a-05f3-4ba6-bbeb-ea874dc53870",
   "metadata": {},
   "outputs": [],
   "source": [
    "#| export\n",
    "@pytest.mark.parametrize((\"test_input\"), (A, xb))\n",
    "def test_log_softmax_forward_pass(test_input):\n",
    "    assert is_near_tensor(log_softmax(A), F.log_softmax(A, dim=1)) == True"
   ]
  },
  {
   "cell_type": "code",
   "execution_count": 70,
   "id": "3eaaad38-9e52-424b-9d89-d1f723d09745",
   "metadata": {},
   "outputs": [
    {
     "data": {
      "text/plain": [
       "tensor([[-2.4076, -1.4076, -0.4076],\n",
       "        [-2.4076, -1.4076, -0.4076],\n",
       "        [-2.4076, -1.4076, -0.4076],\n",
       "        [-2.4076, -1.4076, -0.4076]])"
      ]
     },
     "execution_count": 70,
     "metadata": {},
     "output_type": "execute_result"
    }
   ],
   "source": [
    "log_softmax(A)"
   ]
  },
  {
   "cell_type": "code",
   "execution_count": 71,
   "id": "0ca4bcf6-7f1c-41fb-b124-4e513df99358",
   "metadata": {},
   "outputs": [
    {
     "data": {
      "text/plain": [
       "tensor([[-2.4076, -1.4076, -0.4076],\n",
       "        [-2.4076, -1.4076, -0.4076],\n",
       "        [-2.4076, -1.4076, -0.4076],\n",
       "        [-2.4076, -1.4076, -0.4076]])"
      ]
     },
     "execution_count": 71,
     "metadata": {},
     "output_type": "execute_result"
    }
   ],
   "source": [
    "F.log_softmax(A, dim=1)"
   ]
  },
  {
   "cell_type": "code",
   "execution_count": 72,
   "id": "60c7cefb-bbf0-44a5-825c-137fb7b7cdca",
   "metadata": {},
   "outputs": [
    {
     "data": {
      "text/plain": [
       "tensor([[ True,  True, False],\n",
       "        [ True,  True, False],\n",
       "        [ True,  True, False],\n",
       "        [ True,  True, False]])"
      ]
     },
     "execution_count": 72,
     "metadata": {},
     "output_type": "execute_result"
    }
   ],
   "source": [
    "log_softmax(A) == F.log_softmax(A, dim=1)"
   ]
  },
  {
   "cell_type": "code",
   "execution_count": 73,
   "id": "d9028cf4-6963-4098-b38d-e68f9433a3c9",
   "metadata": {},
   "outputs": [
    {
     "data": {
      "text/plain": [
       "tensor([[True, True, True],\n",
       "        [True, True, True],\n",
       "        [True, True, True],\n",
       "        [True, True, True]])"
      ]
     },
     "execution_count": 73,
     "metadata": {},
     "output_type": "execute_result"
    }
   ],
   "source": [
    "log_softmax(A) == log_softmax(A)"
   ]
  },
  {
   "cell_type": "markdown",
   "id": "5bbf51ab-1f2a-4683-a0df-4d1756841609",
   "metadata": {},
   "source": [
    "##### Negative Log Likelihood"
   ]
  },
  {
   "cell_type": "code",
   "execution_count": 86,
   "id": "56c7f421-0671-4674-918d-4e6e4c1ca7e5",
   "metadata": {},
   "outputs": [],
   "source": [
    "#| export\n",
    "@pytest.mark.parametrize(\n",
    "    (\"test_input\", \"target\"),\n",
    "    ((torch.tensor([1, 0]), torch.tensor([[0, 1, 2], [5, 0, 4]], dtype=torch.float)))\n",
    ")\n",
    "def test_nll(test_input, target):\n",
    "    output = nll(test_input, target)\n",
    "    result = F.nll_loss(F.test_input, target)\n",
    "    assert is_near_tensor(output, result) == True"
   ]
  },
  {
   "cell_type": "code",
   "execution_count": null,
   "id": "7cf53a8f-5a21-442e-a2b7-804725a6c855",
   "metadata": {},
   "outputs": [],
   "source": []
  },
  {
   "cell_type": "code",
   "execution_count": 87,
   "id": "24e8f6a2-d557-4237-a630-290f908a354e",
   "metadata": {},
   "outputs": [
    {
     "data": {
      "text/plain": [
       "tensor([[-6.8610, -6.8610, -6.8610,  ..., -6.8610, -6.8610, -6.8610],\n",
       "        [-6.8844, -6.8844, -6.8844,  ..., -6.8844, -6.8844, -6.8844],\n",
       "        [-6.8022, -6.8022, -6.8022,  ..., -6.8022, -6.8022, -6.8022],\n",
       "        ...,\n",
       "        [-6.7952, -6.7952, -6.7952,  ..., -6.7952, -6.7952, -6.7952],\n",
       "        [-6.8814, -6.8814, -6.8814,  ..., -6.8814, -6.8814, -6.8814],\n",
       "        [-6.9820, -6.9820, -6.9820,  ..., -6.9820, -6.9820, -6.9820]])"
      ]
     },
     "execution_count": 87,
     "metadata": {},
     "output_type": "execute_result"
    }
   ],
   "source": [
    "log_softmax(xb)"
   ]
  },
  {
   "cell_type": "code",
   "execution_count": 85,
   "id": "e532504b-738f-4ae3-87a2-e6c65991ee80",
   "metadata": {},
   "outputs": [
    {
     "data": {
      "text/plain": [
       "torch.Size([64, 784])"
      ]
     },
     "execution_count": 85,
     "metadata": {},
     "output_type": "execute_result"
    }
   ],
   "source": [
    "xb.shape"
   ]
  },
  {
   "cell_type": "code",
   "execution_count": 83,
   "id": "06b2a05d-484a-46bd-a497-efa7aaf2eb73",
   "metadata": {},
   "outputs": [
    {
     "name": "stdout",
     "output_type": "stream",
     "text": [
      "inp.shape=torch.Size([64, 784])\n",
      "targ.shape=torch.Size([64])\n"
     ]
    },
    {
     "data": {
      "text/plain": [
       "tensor(-0.)"
      ]
     },
     "execution_count": 83,
     "metadata": {},
     "output_type": "execute_result"
    }
   ],
   "source": [
    "nll(xb, yb)"
   ]
  },
  {
   "cell_type": "code",
   "execution_count": 78,
   "id": "ac1f1327-8721-4234-a06b-362f72f880d5",
   "metadata": {},
   "outputs": [],
   "source": [
    "sm_pred = F.log_softmax(xb, dim=1)"
   ]
  },
  {
   "cell_type": "code",
   "execution_count": 79,
   "id": "4d4a51ee-5224-4ede-b3bc-111623ba2230",
   "metadata": {},
   "outputs": [
    {
     "data": {
      "text/plain": [
       "torch.Size([64, 784])"
      ]
     },
     "execution_count": 79,
     "metadata": {},
     "output_type": "execute_result"
    }
   ],
   "source": [
    "sm_pred.shape"
   ]
  },
  {
   "cell_type": "code",
   "execution_count": 80,
   "id": "ae0a951e-7b07-4365-b953-7b59f909f46a",
   "metadata": {},
   "outputs": [],
   "source": [
    "nll_loss = F.nll_loss(sm_pred, yb)"
   ]
  },
  {
   "cell_type": "code",
   "execution_count": 81,
   "id": "273bcf83-c3e4-48df-a223-08d47f06a434",
   "metadata": {},
   "outputs": [
    {
     "data": {
      "text/plain": [
       "torch.Size([64])"
      ]
     },
     "execution_count": 81,
     "metadata": {},
     "output_type": "execute_result"
    }
   ],
   "source": [
    "yb.shape"
   ]
  },
  {
   "cell_type": "code",
   "execution_count": 82,
   "id": "3db6ea57-b7a3-4981-ba00-130f6847e1c0",
   "metadata": {},
   "outputs": [
    {
     "data": {
      "text/plain": [
       "torch.Size([])"
      ]
     },
     "execution_count": 82,
     "metadata": {},
     "output_type": "execute_result"
    }
   ],
   "source": [
    "nll_loss.shape"
   ]
  },
  {
   "cell_type": "code",
   "execution_count": 193,
   "id": "67b274fc-38aa-466e-926c-98fff8cae8e9",
   "metadata": {},
   "outputs": [
    {
     "data": {
      "text/plain": [
       "tensor(6.8455)"
      ]
     },
     "execution_count": 193,
     "metadata": {},
     "output_type": "execute_result"
    }
   ],
   "source": [
    "nll_loss"
   ]
  },
  {
   "cell_type": "code",
   "execution_count": 160,
   "id": "710fe193-b38a-4fac-9c70-e5a354168bed",
   "metadata": {},
   "outputs": [],
   "source": [
    "input = torch.randn(3, 5)"
   ]
  },
  {
   "cell_type": "code",
   "execution_count": 127,
   "id": "08121db1-fc83-4e95-909c-9480e26161b3",
   "metadata": {},
   "outputs": [],
   "source": [
    "target = torch.tensor([1, 0, 4])"
   ]
  },
  {
   "cell_type": "code",
   "execution_count": 128,
   "id": "a4b1acc6-2111-42be-88af-78bb4fc31f62",
   "metadata": {},
   "outputs": [],
   "source": [
    "output = F.nll_loss(f.log_softmax(input, dim=1), target)"
   ]
  },
  {
   "cell_type": "code",
   "execution_count": 162,
   "id": "f88112c2-5f96-43fd-b676-e17bf93f9bac",
   "metadata": {},
   "outputs": [
    {
     "data": {
      "text/plain": [
       "tensor(2.1823)"
      ]
     },
     "execution_count": 162,
     "metadata": {},
     "output_type": "execute_result"
    }
   ],
   "source": [
    "output"
   ]
  },
  {
   "cell_type": "code",
   "execution_count": 186,
   "id": "fa286766-db5e-4a6e-acf5-ffa597828dec",
   "metadata": {},
   "outputs": [
    {
     "data": {
      "text/plain": [
       "torch.Size([64, 784])"
      ]
     },
     "execution_count": 186,
     "metadata": {},
     "output_type": "execute_result"
    }
   ],
   "source": [
    "f.log_softmax(xb, dim=1).shape"
   ]
  },
  {
   "cell_type": "code",
   "execution_count": 183,
   "id": "9639e0b0-8308-4cb4-899d-f342c86b5439",
   "metadata": {},
   "outputs": [],
   "source": [
    "output = F.nll_loss(f.log_softmax(xb, dim=1), yb)"
   ]
  },
  {
   "cell_type": "code",
   "execution_count": 184,
   "id": "09a53809-b22d-4c57-8721-3a7192f56fdc",
   "metadata": {},
   "outputs": [
    {
     "data": {
      "text/plain": [
       "tensor(6.8455)"
      ]
     },
     "execution_count": 184,
     "metadata": {},
     "output_type": "execute_result"
    }
   ],
   "source": [
    "output"
   ]
  },
  {
   "cell_type": "code",
   "execution_count": 194,
   "id": "faf32548-9e80-4df7-9e3f-13a4bfeac0f2",
   "metadata": {},
   "outputs": [],
   "source": [
    "output = F.nll_loss(input, target)"
   ]
  },
  {
   "cell_type": "markdown",
   "id": "e9755020-a024-4ba8-aa4f-9a95aa3426be",
   "metadata": {},
   "source": [
    "##### Cross-entropy Loss"
   ]
  },
  {
   "cell_type": "code",
   "execution_count": 163,
   "id": "66c9d468-743d-439e-9b13-e378b7b76a41",
   "metadata": {},
   "outputs": [],
   "source": [
    "pred = torch.tensor([[0, 1, 2], [5, 0, 4]], dtype=torch.float)"
   ]
  },
  {
   "cell_type": "code",
   "execution_count": 164,
   "id": "a774782b-dac8-4bbc-95e1-cdfeaf3ff393",
   "metadata": {},
   "outputs": [],
   "source": [
    "targ = torch.tensor([2, 1])"
   ]
  },
  {
   "cell_type": "code",
   "execution_count": 166,
   "id": "70398a9f-4411-4727-8260-d400ec77ed5b",
   "metadata": {},
   "outputs": [],
   "source": [
    "result = F.cross_entropy(pred, targ)"
   ]
  },
  {
   "cell_type": "code",
   "execution_count": 167,
   "id": "b1d696f4-4aca-4e5d-966f-fda4f5b6353e",
   "metadata": {},
   "outputs": [
    {
     "data": {
      "text/plain": [
       "tensor(2.8629)"
      ]
     },
     "execution_count": 167,
     "metadata": {},
     "output_type": "execute_result"
    }
   ],
   "source": [
    "result"
   ]
  },
  {
   "cell_type": "code",
   "execution_count": 28,
   "id": "d4bfab3a-f860-442f-b357-3fe895b863db",
   "metadata": {},
   "outputs": [],
   "source": [
    "#| export\n",
    "def test_cross_entropy_backward_pass():\n",
    "    pred = torch.tensor([[0, 1, 2], [5, 0, 4]], dtype=torch.float)\n",
    "    targ = torch.tensor([2, 1])\n",
    "    \n",
    "    assert cross_entropy(pred, targ) == F.cross_entropy(pred, targ)"
   ]
  },
  {
   "cell_type": "markdown",
   "id": "ab4366cf-f88c-4a8c-986c-0caf764614ff",
   "metadata": {},
   "source": [
    "#### Activation Functions"
   ]
  },
  {
   "cell_type": "markdown",
   "id": "452e8f36-9ee7-4d7d-9992-ee1f1ed61753",
   "metadata": {},
   "source": [
    "##### ReLU"
   ]
  },
  {
   "cell_type": "code",
   "execution_count": 26,
   "id": "4befb593-37a2-424b-8b8c-cb4b4d8fda21",
   "metadata": {},
   "outputs": [],
   "source": [
    "#| export\n",
    "def test_relu_forward_pass():\n",
    "    \n",
    "    output = ReLU().forward(A)\n",
    "    result = F.relu(A) - 0.5\n",
    "    assert is_near_tensor(output, result) == True"
   ]
  },
  {
   "cell_type": "code",
   "execution_count": 27,
   "id": "bb76a4a7-ffbd-420a-9c39-53def9bd0e1d",
   "metadata": {},
   "outputs": [],
   "source": [
    "#| export\n",
    "def test_relu_backward_pass():\n",
    "    pass"
   ]
  },
  {
   "cell_type": "code",
   "execution_count": 173,
   "id": "a9d25442-3b1f-46e9-81a2-9d12ab8928df",
   "metadata": {},
   "outputs": [],
   "source": [
    "output = ReLU().forward(A)"
   ]
  },
  {
   "cell_type": "code",
   "execution_count": 174,
   "id": "46c74ea2-8de9-40ac-951d-375d9b39f241",
   "metadata": {},
   "outputs": [
    {
     "data": {
      "text/plain": [
       "tensor([[-0.5000, -0.5000, -0.5000],\n",
       "        [-0.5000, -0.5000,  0.5000],\n",
       "        [ 1.5000,  2.5000,  3.5000],\n",
       "        [ 4.5000,  5.5000,  6.5000]])"
      ]
     },
     "execution_count": 174,
     "metadata": {},
     "output_type": "execute_result"
    }
   ],
   "source": [
    "output"
   ]
  },
  {
   "cell_type": "code",
   "execution_count": 175,
   "id": "4de2f7da-1ae8-4f6e-8453-b7f635e3733b",
   "metadata": {},
   "outputs": [
    {
     "data": {
      "text/plain": [
       "tensor([[-4., -3., -2.],\n",
       "        [-1.,  0.,  1.],\n",
       "        [ 2.,  3.,  4.],\n",
       "        [ 5.,  6.,  7.]])"
      ]
     },
     "execution_count": 175,
     "metadata": {},
     "output_type": "execute_result"
    }
   ],
   "source": [
    "A"
   ]
  },
  {
   "cell_type": "code",
   "execution_count": 176,
   "id": "d097e1c6-dbd8-4421-81d2-c309dbf2f811",
   "metadata": {},
   "outputs": [],
   "source": [
    "relu = torch.nn.ReLU()\n",
    "result = relu(A)"
   ]
  },
  {
   "cell_type": "code",
   "execution_count": 177,
   "id": "c115841f-8444-4aee-b1af-1e18b8227442",
   "metadata": {},
   "outputs": [
    {
     "data": {
      "text/plain": [
       "tensor([[-0.5000, -0.5000, -0.5000],\n",
       "        [-0.5000, -0.5000,  0.5000],\n",
       "        [ 1.5000,  2.5000,  3.5000],\n",
       "        [ 4.5000,  5.5000,  6.5000]])"
      ]
     },
     "execution_count": 177,
     "metadata": {},
     "output_type": "execute_result"
    }
   ],
   "source": [
    "result - 0.5"
   ]
  }
 ],
 "metadata": {
  "kernelspec": {
   "display_name": "Python 3 (ipykernel)",
   "language": "python",
   "name": "python3"
  },
  "language_info": {
   "codemirror_mode": {
    "name": "ipython",
    "version": 3
   },
   "file_extension": ".py",
   "mimetype": "text/x-python",
   "name": "python",
   "nbconvert_exporter": "python",
   "pygments_lexer": "ipython3",
   "version": "3.9.13"
  }
 },
 "nbformat": 4,
 "nbformat_minor": 5
}
