{
 "cells": [
  {
   "cell_type": "code",
   "execution_count": 1,
   "id": "23da52f1-826e-429f-b0d6-928cb809faa8",
   "metadata": {},
   "outputs": [],
   "source": [
    "#| default_exp tests.test_model"
   ]
  },
  {
   "cell_type": "code",
   "execution_count": 1,
   "id": "ac5a5e3a-1b28-4b11-a257-1395cea93fba",
   "metadata": {},
   "outputs": [],
   "source": [
    "#| export\n",
    "import torch\n",
    "import torch.nn.functional as f\n",
    "\n",
    "from fastcore.utils import *\n",
    "from tinypytorch.core import *\n",
    "from tinypytorch.model import Lin, ReLU, MSE, initialize_parameters, log_softmax, nll, cross_entropy\n",
    "\n",
    "import pytest"
   ]
  },
  {
   "cell_type": "code",
   "execution_count": 2,
   "id": "4b2ea180-d8c6-43de-9c27-c1b3b83401d9",
   "metadata": {},
   "outputs": [],
   "source": [
    "#| hide\n",
    "from nbdev.showdoc import *\n",
    "from fastcore.test import *"
   ]
  },
  {
   "cell_type": "markdown",
   "id": "6afb1210-d5d1-4959-9802-97837b5a3f6e",
   "metadata": {},
   "source": [
    "#### Tensor for tests"
   ]
  },
  {
   "cell_type": "code",
   "execution_count": 3,
   "id": "4126ff84-b2bb-4df8-9e23-1fcff37aedbf",
   "metadata": {},
   "outputs": [],
   "source": [
    "#| export\n",
    "A = torch.arange(start=-4, end=8, dtype=torch.float)"
   ]
  },
  {
   "cell_type": "code",
   "execution_count": 4,
   "id": "cf1f7dd5-d113-457e-9c71-4f86e3658ac8",
   "metadata": {},
   "outputs": [],
   "source": [
    "#| export\n",
    "A = torch.reshape(A, (4, 3))"
   ]
  },
  {
   "cell_type": "code",
   "execution_count": 5,
   "id": "ec421ca0-3f91-4f53-9bea-267a2e18342e",
   "metadata": {},
   "outputs": [
    {
     "data": {
      "text/plain": [
       "tensor([[-4., -3., -2.],\n",
       "        [-1.,  0.,  1.],\n",
       "        [ 2.,  3.,  4.],\n",
       "        [ 5.,  6.,  7.]])"
      ]
     },
     "execution_count": 5,
     "metadata": {},
     "output_type": "execute_result"
    }
   ],
   "source": [
    "A"
   ]
  },
  {
   "cell_type": "code",
   "execution_count": 6,
   "id": "f652e765-4500-493b-8013-109c811ba763",
   "metadata": {},
   "outputs": [],
   "source": [
    "#| export\n",
    "B = torch.arange(13, 25, dtype=torch.float)"
   ]
  },
  {
   "cell_type": "code",
   "execution_count": 7,
   "id": "cb426995-01da-4729-8b2e-d6d77a507ea9",
   "metadata": {},
   "outputs": [],
   "source": [
    "#| export\n",
    "B = torch.reshape(B, (4, 3))"
   ]
  },
  {
   "cell_type": "code",
   "execution_count": 8,
   "id": "4b1d6d38-2659-438f-81a2-86c737bf3905",
   "metadata": {},
   "outputs": [
    {
     "data": {
      "text/plain": [
       "tensor([[13., 14., 15.],\n",
       "        [16., 17., 18.],\n",
       "        [19., 20., 21.],\n",
       "        [22., 23., 24.]])"
      ]
     },
     "execution_count": 8,
     "metadata": {},
     "output_type": "execute_result"
    }
   ],
   "source": [
    "B"
   ]
  },
  {
   "cell_type": "markdown",
   "id": "0caf8c15-a314-402b-84fa-5c8d704d921d",
   "metadata": {},
   "source": [
    "#### Loss Functions"
   ]
  },
  {
   "cell_type": "markdown",
   "id": "1031f481-ba9e-4d2a-a517-4e32c8d7d5f6",
   "metadata": {},
   "source": [
    "##### Mean Squared Error"
   ]
  },
  {
   "cell_type": "code",
   "execution_count": 9,
   "id": "292b5f34-6334-4beb-9de3-8c91755d26cc",
   "metadata": {},
   "outputs": [],
   "source": [
    "#| export\n",
    "def test_mse_should_return_true():\n",
    "    \n",
    "    output = MSE().forward(A, B)\n",
    "    result = f.mse_loss(A, B)\n",
    "    \n",
    "    assert output == result"
   ]
  },
  {
   "cell_type": "code",
   "execution_count": 10,
   "id": "9f067464-3f53-410a-812f-5d2ef530e185",
   "metadata": {},
   "outputs": [],
   "source": [
    "#| export\n",
    "def test_mse_gradient_should_return_true():\n",
    "    pass"
   ]
  },
  {
   "cell_type": "markdown",
   "id": "bc19fcf0-586b-4b0c-8b55-96654dffa43a",
   "metadata": {
    "tags": []
   },
   "source": [
    "##### Cross-entropy Loss"
   ]
  },
  {
   "cell_type": "code",
   "execution_count": 11,
   "id": "5861e00a-05f3-4ba6-bbeb-ea874dc53870",
   "metadata": {},
   "outputs": [],
   "source": [
    "#| export\n",
    "@pytest.mark.xfail\n",
    "def test_log_softmax_should_return_true():\n",
    "    assert torch.equal(log_softmax(A), f.log_softmax(A, dim=1)) == True"
   ]
  },
  {
   "cell_type": "code",
   "execution_count": 12,
   "id": "1c9fa2df-b08f-4512-a9af-2b0599229a9b",
   "metadata": {},
   "outputs": [
    {
     "data": {
      "text/plain": [
       "False"
      ]
     },
     "execution_count": 12,
     "metadata": {},
     "output_type": "execute_result"
    }
   ],
   "source": [
    "torch.equal(log_softmax(A), f.log_softmax(A, dim=1))"
   ]
  },
  {
   "cell_type": "code",
   "execution_count": 13,
   "id": "75992a34-62e9-4c90-ac7f-abdf00b00ae0",
   "metadata": {},
   "outputs": [
    {
     "data": {
      "text/plain": [
       "tensor([[ True,  True, False],\n",
       "        [ True,  True, False],\n",
       "        [ True,  True, False],\n",
       "        [ True,  True, False]])"
      ]
     },
     "execution_count": 13,
     "metadata": {},
     "output_type": "execute_result"
    }
   ],
   "source": [
    "torch.eq(log_softmax(A), f.log_softmax(A, dim=1))"
   ]
  },
  {
   "cell_type": "code",
   "execution_count": 14,
   "id": "3eaaad38-9e52-424b-9d89-d1f723d09745",
   "metadata": {},
   "outputs": [
    {
     "data": {
      "text/plain": [
       "tensor([[-2.4076, -1.4076, -0.4076],\n",
       "        [-2.4076, -1.4076, -0.4076],\n",
       "        [-2.4076, -1.4076, -0.4076],\n",
       "        [-2.4076, -1.4076, -0.4076]])"
      ]
     },
     "execution_count": 14,
     "metadata": {},
     "output_type": "execute_result"
    }
   ],
   "source": [
    "log_softmax(A)"
   ]
  },
  {
   "cell_type": "code",
   "execution_count": 15,
   "id": "08c01fc7-f5ee-4e48-ab22-ca6a842e91cb",
   "metadata": {},
   "outputs": [
    {
     "ename": "RuntimeError",
     "evalue": "Boolean value of Tensor with more than one value is ambiguous",
     "output_type": "error",
     "traceback": [
      "\u001b[0;31m---------------------------------------------------------------------------\u001b[0m",
      "\u001b[0;31mRuntimeError\u001b[0m                              Traceback (most recent call last)",
      "Input \u001b[0;32mIn [15]\u001b[0m, in \u001b[0;36m<cell line: 1>\u001b[0;34m()\u001b[0m\n\u001b[0;32m----> 1\u001b[0m \u001b[38;5;28;01massert\u001b[39;00m log_softmax(A) \u001b[38;5;241m==\u001b[39m log_softmax(A)\n",
      "\u001b[0;31mRuntimeError\u001b[0m: Boolean value of Tensor with more than one value is ambiguous"
     ]
    }
   ],
   "source": [
    "assert log_softmax(A) == log_softmax(A)"
   ]
  },
  {
   "cell_type": "code",
   "execution_count": null,
   "id": "0ca4bcf6-7f1c-41fb-b124-4e513df99358",
   "metadata": {},
   "outputs": [],
   "source": [
    "f.log_softmax(A, dim=1)"
   ]
  },
  {
   "cell_type": "code",
   "execution_count": null,
   "id": "60c7cefb-bbf0-44a5-825c-137fb7b7cdca",
   "metadata": {},
   "outputs": [],
   "source": [
    "log_softmax(A) == f.log_softmax(A, dim=1)"
   ]
  },
  {
   "cell_type": "code",
   "execution_count": null,
   "id": "d9028cf4-6963-4098-b38d-e68f9433a3c9",
   "metadata": {},
   "outputs": [],
   "source": [
    "log_softmax(A) == log_softmax(A)"
   ]
  },
  {
   "cell_type": "markdown",
   "id": "5bbf51ab-1f2a-4683-a0df-4d1756841609",
   "metadata": {},
   "source": [
    "##### Negative Log Likelihood"
   ]
  },
  {
   "cell_type": "code",
   "execution_count": 42,
   "id": "56c7f421-0671-4674-918d-4e6e4c1ca7e5",
   "metadata": {},
   "outputs": [],
   "source": [
    "#| export\n",
    "def test_nll_should_return_true():\n",
    "    \n",
    "    targ = torch.tensor([1, 0])\n",
    "    sm_pred = torch.tensor([[0, 1, 2], [5, 0, 4]], dtype=torch.float)\n",
    "    \n",
    "    assert nll(sm_pred, targ) == -3."
   ]
  },
  {
   "cell_type": "markdown",
   "id": "e9755020-a024-4ba8-aa4f-9a95aa3426be",
   "metadata": {},
   "source": [
    "##### Cross-entropy Loss"
   ]
  },
  {
   "cell_type": "code",
   "execution_count": 47,
   "id": "66c9d468-743d-439e-9b13-e378b7b76a41",
   "metadata": {},
   "outputs": [],
   "source": [
    "pred = torch.tensor([[0, 1, 2], [5, 0, 4]], dtype=torch.float)"
   ]
  },
  {
   "cell_type": "code",
   "execution_count": 48,
   "id": "a774782b-dac8-4bbc-95e1-cdfeaf3ff393",
   "metadata": {},
   "outputs": [],
   "source": [
    "targ = torch.tensor([2, 1])"
   ]
  },
  {
   "cell_type": "code",
   "execution_count": 51,
   "id": "70398a9f-4411-4727-8260-d400ec77ed5b",
   "metadata": {},
   "outputs": [],
   "source": [
    "result = f.cross_entropy(pred, targ)"
   ]
  },
  {
   "cell_type": "code",
   "execution_count": 52,
   "id": "b1d696f4-4aca-4e5d-966f-fda4f5b6353e",
   "metadata": {},
   "outputs": [
    {
     "data": {
      "text/plain": [
       "tensor(2.8629)"
      ]
     },
     "execution_count": 52,
     "metadata": {},
     "output_type": "execute_result"
    }
   ],
   "source": [
    "result"
   ]
  },
  {
   "cell_type": "code",
   "execution_count": 53,
   "id": "d4bfab3a-f860-442f-b357-3fe895b863db",
   "metadata": {},
   "outputs": [],
   "source": [
    "#| export\n",
    "def test_cross_entropy_loss():\n",
    "    pred = torch.tensor([[0, 1, 2], [5, 0, 4]], dtype=torch.float)\n",
    "    targ = torch.tensor([2, 1])\n",
    "    \n",
    "    assert cross_entropy(pred, targ) == f.cross_entropy(pred, targ)"
   ]
  },
  {
   "cell_type": "code",
   "execution_count": null,
   "id": "aeba80cd-8f0e-4d88-b746-ebdf6cbd6786",
   "metadata": {},
   "outputs": [],
   "source": []
  },
  {
   "cell_type": "markdown",
   "id": "ab4366cf-f88c-4a8c-986c-0caf764614ff",
   "metadata": {},
   "source": [
    "#### Activation Functions"
   ]
  },
  {
   "cell_type": "code",
   "execution_count": 40,
   "id": "4befb593-37a2-424b-8b8c-cb4b4d8fda21",
   "metadata": {
    "tags": []
   },
   "outputs": [],
   "source": [
    "#| export\n",
    "@pytest.mark.xfail\n",
    "def test_relu_should_return_true():\n",
    "    \n",
    "    output = ReLU().forward(A)\n",
    "    result = f.relu(A) - 0.5\n",
    "    assert output == result"
   ]
  },
  {
   "cell_type": "code",
   "execution_count": 245,
   "id": "bb76a4a7-ffbd-420a-9c39-53def9bd0e1d",
   "metadata": {},
   "outputs": [],
   "source": [
    "#| export\n",
    "def test_relu_gradient_should_return_true():\n",
    "    pass"
   ]
  },
  {
   "cell_type": "code",
   "execution_count": 210,
   "id": "a9d25442-3b1f-46e9-81a2-9d12ab8928df",
   "metadata": {},
   "outputs": [],
   "source": [
    "output = ReLU().forward(A)"
   ]
  },
  {
   "cell_type": "code",
   "execution_count": 211,
   "id": "46c74ea2-8de9-40ac-951d-375d9b39f241",
   "metadata": {},
   "outputs": [
    {
     "data": {
      "text/plain": [
       "tensor([[-0.5000, -0.5000, -0.5000],\n",
       "        [-0.5000, -0.5000,  0.5000],\n",
       "        [ 1.5000,  2.5000,  3.5000],\n",
       "        [ 4.5000,  5.5000,  6.5000]])"
      ]
     },
     "execution_count": 211,
     "metadata": {},
     "output_type": "execute_result"
    }
   ],
   "source": [
    "output"
   ]
  },
  {
   "cell_type": "code",
   "execution_count": 212,
   "id": "4de2f7da-1ae8-4f6e-8453-b7f635e3733b",
   "metadata": {},
   "outputs": [
    {
     "data": {
      "text/plain": [
       "tensor([[-4., -3., -2.],\n",
       "        [-1.,  0.,  1.],\n",
       "        [ 2.,  3.,  4.],\n",
       "        [ 5.,  6.,  7.]])"
      ]
     },
     "execution_count": 212,
     "metadata": {},
     "output_type": "execute_result"
    }
   ],
   "source": [
    "A"
   ]
  },
  {
   "cell_type": "code",
   "execution_count": 213,
   "id": "d097e1c6-dbd8-4421-81d2-c309dbf2f811",
   "metadata": {},
   "outputs": [],
   "source": [
    "relu = torch.nn.ReLU()\n",
    "result = relu(A)"
   ]
  },
  {
   "cell_type": "code",
   "execution_count": 214,
   "id": "c115841f-8444-4aee-b1af-1e18b8227442",
   "metadata": {},
   "outputs": [
    {
     "data": {
      "text/plain": [
       "tensor([[-0.5000, -0.5000, -0.5000],\n",
       "        [-0.5000, -0.5000,  0.5000],\n",
       "        [ 1.5000,  2.5000,  3.5000],\n",
       "        [ 4.5000,  5.5000,  6.5000]])"
      ]
     },
     "execution_count": 214,
     "metadata": {},
     "output_type": "execute_result"
    }
   ],
   "source": [
    "result - 0.5"
   ]
  },
  {
   "cell_type": "markdown",
   "id": "7097ae7c-3a7d-47f7-bd0d-3f39d422d7c0",
   "metadata": {
    "tags": []
   },
   "source": [
    "#### Linear Layer"
   ]
  },
  {
   "cell_type": "code",
   "execution_count": 241,
   "id": "4f7add8f-ba85-4dd5-bf39-cf7180d3d8f1",
   "metadata": {},
   "outputs": [],
   "source": [
    "#| export\n",
    "def test_intialize_parameters_should_return_true():\n",
    "    \n",
    "    m = 5 # number of rows\n",
    "    nh = 3 # number of hidden layers\n",
    "    w1, b1, w2, b2 = initialize_parameters(m=m, nh=nh)\n",
    "    assert w1.shape == (m, nh)\n",
    "    assert b1.shape == (nh,)\n",
    "    assert w2.shape == (nh, 1)\n",
    "    assert b2.shape == (1,)"
   ]
  },
  {
   "cell_type": "code",
   "execution_count": 242,
   "id": "921cee63-e317-4519-a924-f715bd697111",
   "metadata": {},
   "outputs": [],
   "source": [
    "#| export\n",
    "def test_linear_should_return_true():\n",
    "    pass"
   ]
  },
  {
   "cell_type": "code",
   "execution_count": 247,
   "id": "79340b38-a385-470c-9b7f-398948cd430f",
   "metadata": {},
   "outputs": [],
   "source": [
    "#| export\n",
    "def test_linear_gradient_should_return_true():\n",
    "    pass"
   ]
  },
  {
   "cell_type": "code",
   "execution_count": null,
   "id": "ffb7b5f3-c04e-4de0-8dfd-b2d6a1114a14",
   "metadata": {},
   "outputs": [],
   "source": []
  }
 ],
 "metadata": {
  "kernelspec": {
   "display_name": "Python 3 (ipykernel)",
   "language": "python",
   "name": "python3"
  },
  "language_info": {
   "codemirror_mode": {
    "name": "ipython",
    "version": 3
   },
   "file_extension": ".py",
   "mimetype": "text/x-python",
   "name": "python",
   "nbconvert_exporter": "python",
   "pygments_lexer": "ipython3",
   "version": "3.9.12"
  }
 },
 "nbformat": 4,
 "nbformat_minor": 5
}
