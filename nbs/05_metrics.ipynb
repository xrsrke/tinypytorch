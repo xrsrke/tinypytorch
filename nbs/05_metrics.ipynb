{
 "cells": [
  {
   "cell_type": "raw",
   "id": "0dea54a6-08a7-40c4-bbae-2a77907d18df",
   "metadata": {},
   "source": [
    "---\n",
    "title: optimizer\n",
    "output-file: optimizer.html\n",
    "description: optimizer\n",
    "---"
   ]
  },
  {
   "cell_type": "code",
   "execution_count": 8,
   "id": "2bc4df23-5db1-4695-865b-0b87ab8c854a",
   "metadata": {},
   "outputs": [],
   "source": [
    "#| default_exp metrics"
   ]
  },
  {
   "cell_type": "code",
   "execution_count": 9,
   "id": "53b3371e-827c-4e4e-81a7-74c895f6046a",
   "metadata": {},
   "outputs": [],
   "source": [
    "#| export\n",
    "import torch\n",
    "from fastcore.utils import *\n",
    "from tinypytorch.core import *"
   ]
  },
  {
   "cell_type": "code",
   "execution_count": 10,
   "id": "ea4e64c3-8aab-4cc3-aef0-785b6438dea0",
   "metadata": {},
   "outputs": [],
   "source": [
    "#| hide\n",
    "from nbdev.showdoc import *\n",
    "from fastcore.test import *"
   ]
  },
  {
   "cell_type": "markdown",
   "id": "4a8eccd2-274a-4f53-b46b-0708443ec5f9",
   "metadata": {},
   "source": [
    "#### Accuracy"
   ]
  },
  {
   "cell_type": "code",
   "execution_count": 12,
   "id": "c28c6af0-a263-45ee-b29d-044b30a055b8",
   "metadata": {},
   "outputs": [],
   "source": [
    "#| export\n",
    "def accuracy(out: \"output\", yb: \"y batch\"):\n",
    "    return (torch.argmax(out, dim=1) == yb).float().mean()"
   ]
  },
  {
   "cell_type": "code",
   "execution_count": null,
   "id": "ff97a27d-0416-47aa-9d05-97316814b322",
   "metadata": {},
   "outputs": [],
   "source": []
  }
 ],
 "metadata": {
  "kernelspec": {
   "display_name": "Python 3 (ipykernel)",
   "language": "python",
   "name": "python3"
  },
  "language_info": {
   "codemirror_mode": {
    "name": "ipython",
    "version": 3
   },
   "file_extension": ".py",
   "mimetype": "text/x-python",
   "name": "python",
   "nbconvert_exporter": "python",
   "pygments_lexer": "ipython3",
   "version": "3.9.12"
  }
 },
 "nbformat": 4,
 "nbformat_minor": 5
}
