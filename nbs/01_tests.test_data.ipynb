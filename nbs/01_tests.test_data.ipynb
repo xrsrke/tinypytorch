{
 "cells": [
  {
   "cell_type": "code",
   "execution_count": 1,
   "id": "6eac98dc-4d0e-4118-8589-dcbaaa41f608",
   "metadata": {},
   "outputs": [],
   "source": [
    "#| default_exp tests.test_data"
   ]
  },
  {
   "cell_type": "code",
   "execution_count": 12,
   "id": "a86302f9-fa0f-4dd3-b556-90a0fef08cac",
   "metadata": {},
   "outputs": [],
   "source": [
    "#| export\n",
    "import torch\n",
    "import torch.nn.functional as F\n",
    "\n",
    "from fastcore.utils import *\n",
    "from tinypytorch.core import *\n",
    "from tinypytorch.data import get_sample_data, get_local_data\n",
    "\n",
    "import pytest"
   ]
  },
  {
   "cell_type": "code",
   "execution_count": 13,
   "id": "9794437d-aeb1-47bf-9d5c-266be167b1cb",
   "metadata": {},
   "outputs": [],
   "source": [
    "#| hide\n",
    "from nbdev.showdoc import *\n",
    "from fastcore.test import *"
   ]
  },
  {
   "cell_type": "code",
   "execution_count": 14,
   "id": "c52eb864-8a97-444d-b202-c024fbde9e49",
   "metadata": {},
   "outputs": [],
   "source": [
    "#| export\n",
    "@pytest.fixture\n",
    "def dataset():\n",
    "    return get_local_data()"
   ]
  },
  {
   "cell_type": "code",
   "execution_count": 31,
   "id": "f417d9cc-2250-4b8c-a8e0-d03a03071cbe",
   "metadata": {},
   "outputs": [],
   "source": [
    "#| export\n",
    "def test_get_dataset(dataset):\n",
    "    x_train, y_train, x_valid, y_valid = dataset\n",
    "    assert type(x_train) is torch.Tensor\n",
    "    assert type(y_train) is torch.Tensor\n",
    "    assert type(x_valid) is torch.Tensor\n",
    "    assert type(y_valid) is torch.Tensor"
   ]
  },
  {
   "cell_type": "code",
   "execution_count": 32,
   "id": "afd4b921-a9c5-4a93-af20-a89a514af893",
   "metadata": {},
   "outputs": [],
   "source": [
    "a = torch.tensor([1, 1])"
   ]
  },
  {
   "cell_type": "code",
   "execution_count": 33,
   "id": "d114737b-c415-430c-aafe-6697e5562b11",
   "metadata": {},
   "outputs": [
    {
     "data": {
      "text/plain": [
       "True"
      ]
     },
     "execution_count": 33,
     "metadata": {},
     "output_type": "execute_result"
    }
   ],
   "source": [
    "type(a) == torch.Tensor"
   ]
  },
  {
   "cell_type": "code",
   "execution_count": 25,
   "id": "cbf3ca5c-8f4c-42f9-9218-7b6a76b7a2e7",
   "metadata": {},
   "outputs": [],
   "source": [
    "#| export\n",
    "def test_dataset_shape(dataset):\n",
    "    x_train, y_train, x_valid, y_valid = dataset\n",
    "    \n",
    "    # test number of images equals to number of labels in training set\n",
    "    assert x_train.shape[0] == y_train.shape[0]\n",
    "    \n",
    "    # test number of pixels in training set and validation set\n",
    "    assert x_train.shape[1] == x_valid.shape[1]\n",
    "    \n",
    "    # test number of images equals to number of labels in validation set\n",
    "    assert x_valid.shape[0] == y_valid.shape[0]"
   ]
  },
  {
   "cell_type": "code",
   "execution_count": 4,
   "id": "d1376a87-660f-4e5a-9733-1cf4594bcf8a",
   "metadata": {},
   "outputs": [],
   "source": [
    "#| export\n",
    "def test_sample_data():\n",
    "    pass"
   ]
  }
 ],
 "metadata": {
  "kernelspec": {
   "display_name": "Python 3 (ipykernel)",
   "language": "python",
   "name": "python3"
  },
  "language_info": {
   "codemirror_mode": {
    "name": "ipython",
    "version": 3
   },
   "file_extension": ".py",
   "mimetype": "text/x-python",
   "name": "python",
   "nbconvert_exporter": "python",
   "pygments_lexer": "ipython3",
   "version": "3.9.13"
  }
 },
 "nbformat": 4,
 "nbformat_minor": 5
}
