{
 "cells": [
  {
   "cell_type": "code",
   "execution_count": 1,
   "id": "4490dabc-5daa-4c14-b51b-5efa6184c061",
   "metadata": {},
   "outputs": [],
   "source": [
    "#| default_exp tests.test_metrics"
   ]
  },
  {
   "cell_type": "code",
   "execution_count": 2,
   "id": "50a5ef24-2861-4d36-8bd8-c26204a02c0e",
   "metadata": {},
   "outputs": [],
   "source": [
    "#| export\n",
    "import torch\n",
    "import torch.nn.functional as f\n",
    "\n",
    "from fastcore.utils import *\n",
    "from tinypytorch.core import *\n",
    "from tinypytorch.metrics import accuracy\n",
    "\n",
    "import pytest"
   ]
  },
  {
   "cell_type": "code",
   "execution_count": 3,
   "id": "ed581f5b-dc49-48c3-8012-b2339182ddf2",
   "metadata": {},
   "outputs": [],
   "source": [
    "#| hide\n",
    "from nbdev.showdoc import *\n",
    "from fastcore.test import *"
   ]
  },
  {
   "cell_type": "code",
   "execution_count": 4,
   "id": "815cedf8-9001-4d01-8cd5-f9a9c580e257",
   "metadata": {},
   "outputs": [],
   "source": [
    "#| export\n",
    "def test_accuracy():\n",
    "    pass"
   ]
  },
  {
   "cell_type": "code",
   "execution_count": null,
   "id": "e74cbe17-f61a-4f14-ae98-739af6d9c554",
   "metadata": {},
   "outputs": [],
   "source": []
  }
 ],
 "metadata": {
  "kernelspec": {
   "display_name": "Python 3 (ipykernel)",
   "language": "python",
   "name": "python3"
  },
  "language_info": {
   "codemirror_mode": {
    "name": "ipython",
    "version": 3
   },
   "file_extension": ".py",
   "mimetype": "text/x-python",
   "name": "python",
   "nbconvert_exporter": "python",
   "pygments_lexer": "ipython3",
   "version": "3.9.12"
  }
 },
 "nbformat": 4,
 "nbformat_minor": 5
}
